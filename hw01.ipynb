{
 "cells": [
  {
   "cell_type": "markdown",
   "metadata": {},
   "source": [
    "# HomeWork #1"
   ]
  },
  {
   "cell_type": "markdown",
   "metadata": {},
   "source": [
    "Info:\n",
    "\n",
    "The results must be presented to us on 25.01.2017 (Anaconda is already installed in computer class). If you are ready before 25.01.2017 you can send us your homework per email. You can ask any questions regarding the tasks in our Telegram group."
   ]
  },
  {
   "cell_type": "code",
   "execution_count": 7,
   "metadata": {
    "collapsed": true
   },
   "outputs": [],
   "source": [
    "import threading\n",
    "import re\n",
    "import io\n",
    "\n",
    "import requests\n",
    "from os import makedirs\n",
    "from os.path import join"
   ]
  },
  {
   "cell_type": "markdown",
   "metadata": {},
   "source": [
    "Define a function max() that takes two numbers as arguments and returns the largest of them. Use the if-then-else construct available in Python. (It is true that Python has the max() function built in, but writing it yourself is a good exercise.)"
   ]
  },
  {
   "cell_type": "code",
   "execution_count": 4,
   "metadata": {
    "collapsed": false
   },
   "outputs": [],
   "source": [
    "def max(a,b):\n",
    "    try:\n",
    "        a_int = int(a)\n",
    "        b_int = int(b)\n",
    "        if a_int >= b_int:\n",
    "            comp = a_int\n",
    "        else:\n",
    "            comp = b_int    \n",
    "    except Exception as e:    \n",
    "        print(\"Something went wrong\")\n",
    "        print(e)\n",
    "    return comp"
   ]
  },
  {
   "cell_type": "markdown",
   "metadata": {},
   "source": [
    "The function max() from exercise 1 will only work for two. But suppose we have a much larger number of numbers, or suppose we cannot tell in advance how many of them are there? Write a function max_in_list() that takes a list of numbers and returns the largest one."
   ]
  },
  {
   "cell_type": "code",
   "execution_count": 5,
   "metadata": {
    "collapsed": true
   },
   "outputs": [],
   "source": [
    "def max_args(*args):\n",
    "    try:\n",
    "        comp = 0\n",
    "        for arg in args:\n",
    "            arg_int = int(arg)\n",
    "            if arg_int >= comp:\n",
    "                comp = arg_int\n",
    "    except Exception as e:    \n",
    "        print(\"Something went wrong\")\n",
    "        print(e)\n",
    "    return comp"
   ]
  },
  {
   "cell_type": "markdown",
   "metadata": {},
   "source": [
    "Download your favorite book in txt format. Use regular expressions to replace the name of the main character with your name. Write result in the new file."
   ]
  },
  {
   "cell_type": "code",
   "execution_count": 10,
   "metadata": {
    "collapsed": false
   },
   "outputs": [],
   "source": [
    "#Let the book be \"Alice in Wonderland\" by Lewis Carroll (http://www.gutenberg.org/cache/epub/19033/pg19033.txt)\n",
    "\n",
    "url = 'http://www.gutenberg.org/cache/epub/19033/pg19033.txt'\n",
    "data_dir = 'tmp'\n",
    "data_path = join(data_dir, 'alice2nataly.txt')\n",
    "\n",
    "makedirs(data_dir, exist_ok=True)\n",
    "\n",
    "resp = requests.get(url)\n",
    "\n",
    "with open(data_path, 'wb') as f:\n",
    "    f.write(resp.content)\n",
    "    \n",
    "with open(data_path, 'r') as infile: \n",
    "    data = infile.read().replace('Alice', 'Nataly').replace('ALICE', 'NATALY')\n",
    "    \n",
    "with open(data_path, 'w') as outfile:\n",
    "    outfile.write(data)"
   ]
  },
  {
   "cell_type": "markdown",
   "metadata": {},
   "source": [
    "Download your favorite book in txt format. Create a regular expression which will select chapter titles. Create the new file. Write list of chapter titles in the new file.\n"
   ]
  },
  {
   "cell_type": "code",
   "execution_count": 71,
   "metadata": {
    "collapsed": false,
    "scrolled": true
   },
   "outputs": [],
   "source": [
    "#Let the book againt be \"Alice in Wonderland\" by Lewis Carroll (http://www.gutenberg.org/cache/epub/19033/pg19033.txt)\n",
    "#The chapter title looks like \"III--A CAUCUS-RACE AND A LONG TALE\" there \n",
    "\n",
    "url = 'http://www.gutenberg.org/cache/epub/19033/pg19033.txt'\n",
    "data_dir = 'tmp'\n",
    "data_path = join(data_dir, 'alice_in_wonderland.txt')\n",
    "cont_path = join(data_dir, 'chapters_list.txt')\n",
    "\n",
    "regex = re.compile('[IVX]+--[A-Z\\']+\\s[A-Z]+.*')\n",
    "\n",
    "makedirs(data_dir, exist_ok=True)\n",
    "\n",
    "resp = requests.get(url)\n",
    "\n",
    "with open(data_path, 'wb') as f:\n",
    "    f.write(resp.content)\n",
    "\n",
    "#data_path = join(data_dir, 'alice2nataly.txt')\n",
    "\n",
    "with open(data_path, 'r') as infile: \n",
    "    data = infile.read()\n",
    "\n",
    "chapters = regex.findall(str(data))\n",
    "    \n",
    "with open(cont_path, 'w') as outfile:\n",
    "    for tokens in chapters:\n",
    "        outfile.write(str(tokens))\n",
    "        print(str(tokens))\n",
    "        outfile.write('\\n')"
   ]
  },
  {
   "cell_type": "code",
   "execution_count": null,
   "metadata": {
    "collapsed": true
   },
   "outputs": [],
   "source": []
  }
 ],
 "metadata": {
  "kernelspec": {
   "display_name": "Python 3",
   "language": "python",
   "name": "python3"
  },
  "language_info": {
   "codemirror_mode": {
    "name": "ipython",
    "version": 3
   },
   "file_extension": ".py",
   "mimetype": "text/x-python",
   "name": "python",
   "nbconvert_exporter": "python",
   "pygments_lexer": "ipython3",
   "version": "3.5.2"
  }
 },
 "nbformat": 4,
 "nbformat_minor": 2
}
